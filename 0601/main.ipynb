{
 "cells": [
  {
   "cell_type": "code",
   "execution_count": 1,
   "id": "cf1cb9f7",
   "metadata": {},
   "outputs": [],
   "source": [
    "import matplotlib.pyplot as plt\n",
    "import numpy as np"
   ]
  },
  {
   "cell_type": "code",
   "execution_count": 2,
   "id": "f603ceb0",
   "metadata": {},
   "outputs": [],
   "source": [
    "def streak(n):\n",
    "    if n == 1:\n",
    "        return 1\n",
    "    k = 0\n",
    "    while True:\n",
    "        if (n + k) % (k + 1) != 0:\n",
    "            return k\n",
    "        k += 1\n"
   ]
  },
  {
   "cell_type": "code",
   "execution_count": 29,
   "id": "dc0d604a",
   "metadata": {},
   "outputs": [],
   "source": [
    "def lcm(n):\n",
    "    l = 1\n",
    "    for n_ in n:\n",
    "        l = np.lcm(l, n_)\n",
    "    return int(l)"
   ]
  },
  {
   "cell_type": "code",
   "execution_count": null,
   "id": "09c154ab",
   "metadata": {},
   "outputs": [],
   "source": [
    "def P(s, N):\n",
    "    s = np.arange(1, s + 1)\n",
    "    return (N - 2) // lcm(s) - (N - 2) // lcm(s + 1)"
   ]
  },
  {
   "cell_type": "code",
   "execution_count": 97,
   "id": "3a686b5a",
   "metadata": {},
   "outputs": [
    {
     "data": {
      "text/plain": [
       "1617243"
      ]
     },
     "execution_count": 97,
     "metadata": {},
     "output_type": "execute_result"
    }
   ],
   "source": [
    "total = 0\n",
    "for i in range(1, 32):\n",
    "    N = 4**i\n",
    "    total += P(i, N)\n",
    "total"
   ]
  },
  {
   "cell_type": "code",
   "execution_count": 96,
   "id": "75a456ee",
   "metadata": {},
   "outputs": [
    {
     "data": {
      "text/plain": [
       "14286"
      ]
     },
     "execution_count": 96,
     "metadata": {},
     "output_type": "execute_result"
    }
   ],
   "source": [
    "P(6, int(1e6))"
   ]
  }
 ],
 "metadata": {
  "kernelspec": {
   "display_name": ".venv",
   "language": "python",
   "name": "python3"
  },
  "language_info": {
   "codemirror_mode": {
    "name": "ipython",
    "version": 3
   },
   "file_extension": ".py",
   "mimetype": "text/x-python",
   "name": "python",
   "nbconvert_exporter": "python",
   "pygments_lexer": "ipython3",
   "version": "3.13.3"
  }
 },
 "nbformat": 4,
 "nbformat_minor": 5
}
