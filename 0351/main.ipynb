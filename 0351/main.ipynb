{
 "cells": [
  {
   "cell_type": "code",
   "execution_count": 1,
   "id": "94716fe5",
   "metadata": {},
   "outputs": [],
   "source": [
    "import numpy as np\n",
    "import matplotlib.pyplot as plt\n",
    "from tqdm import tqdm"
   ]
  },
  {
   "cell_type": "code",
   "execution_count": 2,
   "id": "1e5d4bb3",
   "metadata": {},
   "outputs": [],
   "source": [
    "def gcd(a, b):\n",
    "    \"\"\"Compute the greatest common divisor of a and b.\"\"\"\n",
    "    while b:\n",
    "        a, b = b, a % b\n",
    "    return abs(a)\n",
    "\n",
    "\n",
    "def axial_to_cartesian(q, r, a=1.0):\n",
    "    x = a * 3 / 2 * q\n",
    "    y = a * np.sqrt(3) * (r + q / 2)\n",
    "    return (x, y)\n",
    "\n",
    "\n",
    "def brillouin_zone_ring(N):\n",
    "    if N == 0:\n",
    "        return [(0, 0)]\n",
    "\n",
    "    results = []\n",
    "    q, r = N, 0  # Start at (N, 0)\n",
    "    directions = [\n",
    "        (-1, +1),  # Down-left\n",
    "        (-1, 0),  # Left\n",
    "        (0, -1),  # Up-left\n",
    "        (+1, -1),  # Up-right\n",
    "        (+1, 0),  # Right\n",
    "        (0, +1),  # Down-right\n",
    "    ]\n",
    "\n",
    "    for dir in directions:\n",
    "        for _ in range(N):\n",
    "            results.append((q, r))\n",
    "            q += dir[0]\n",
    "            r += dir[1]\n",
    "\n",
    "    return results\n",
    "\n",
    "\n",
    "def brillouin_zones_up_to(N):\n",
    "    all_points = []\n",
    "    for k in range(N + 1):\n",
    "        all_points.extend(brillouin_zone_ring(k))\n",
    "    return all_points"
   ]
  },
  {
   "cell_type": "code",
   "execution_count": null,
   "id": "791ff71f",
   "metadata": {},
   "outputs": [],
   "source": [
    "N = 20\n",
    "Q = np.arange(-N, N + 1)\n",
    "R = np.arange(-N, N + 1)\n",
    "x = []\n",
    "y = []\n",
    "c = []\n",
    "for q in Q:\n",
    "    for r in R:\n",
    "        if q * q + r * r > 100:\n",
    "            continue\n",
    "        x_coord, y_coord = axial_to_cartesian(q, r)\n",
    "        x.append(x_coord)\n",
    "        y.append(y_coord)\n",
    "        if gcd(q, r) == 1:\n",
    "            c.append(\"red\")\n",
    "        else:\n",
    "            c.append(\"blue\")"
   ]
  },
  {
   "cell_type": "code",
   "execution_count": null,
   "id": "4f185e63",
   "metadata": {},
   "outputs": [],
   "source": [
    "%matplotlib qt\n",
    "fig, ax = plt.subplots(figsize=(8, 8))\n",
    "ax.scatter(x, y, s=10, color=c, alpha=0.6)\n",
    "# place (r,q) coordinates on each point\n",
    "for i, (q, r) in enumerate(zip(x, y)):\n",
    "    ax.text(\n",
    "        q,\n",
    "        r,\n",
    "        f\"({int((q * 2 / np.sqrt(3)) + (r / 2))}, {int(r)})\",\n",
    "        fontsize=8,\n",
    "        ha=\"center\",\n",
    "        va=\"center\",\n",
    "    )\n",
    "ax.set_aspect(\"equal\")\n"
   ]
  },
  {
   "cell_type": "code",
   "execution_count": 28,
   "id": "93899ac8",
   "metadata": {},
   "outputs": [
    {
     "name": "stdout",
     "output_type": "stream",
     "text": [
      "Total points: 30\n"
     ]
    }
   ],
   "source": [
    "%matplotlib qt\n",
    "fig, ax = plt.subplots(figsize=(8, 8))\n",
    "point_set = set()\n",
    "t = 0\n",
    "for n in range(0, 6):\n",
    "    points = set(brillouin_zone_ring(n))\n",
    "    new_set = points - point_set\n",
    "    x = []\n",
    "    y = []\n",
    "    color = plt.cm.viridis(n / 10)\n",
    "    c = []\n",
    "    s = []\n",
    "    for q, r in points:\n",
    "        x_coord, y_coord = axial_to_cartesian(q, r)\n",
    "        x.append(x_coord)\n",
    "        y.append(y_coord)\n",
    "        if np.abs(gcd(q, r)) <= 1:\n",
    "            c.append(\"black\")\n",
    "            s.append(5)\n",
    "        else:\n",
    "            c.append(\"lightgreen\")\n",
    "            s.append(10)\n",
    "            t += 1\n",
    "    ax.scatter(y, x, s=s, color=c)\n",
    "    point_set.update(points)\n",
    "ax.set_aspect(\"equal\")\n",
    "print(f\"Total points: {t}\")"
   ]
  },
  {
   "cell_type": "code",
   "execution_count": 9,
   "id": "69a0d3b7",
   "metadata": {},
   "outputs": [
    {
     "name": "stdout",
     "output_type": "stream",
     "text": [
      "Total points: 138\n"
     ]
    }
   ],
   "source": [
    "point_set = set()\n",
    "t = 0\n",
    "N = 10\n",
    "points = brillouin_zones_up_to(N)\n",
    "for q, r in points:\n",
    "    if np.abs(gcd(q, r)) > 1:\n",
    "        t += 1\n",
    "print(f\"Total points: {t}\")"
   ]
  },
  {
   "cell_type": "code",
   "execution_count": 10,
   "id": "4ef44f1b",
   "metadata": {},
   "outputs": [
    {
     "data": {
      "text/plain": [
       "<matplotlib.collections.PathCollection at 0x7f65237eb250>"
      ]
     },
     "execution_count": 10,
     "metadata": {},
     "output_type": "execute_result"
    },
    {
     "data": {
      "image/png": "[encoded data removed]",
      "text/plain": [
       "<Figure size 640x480 with 1 Axes>"
      ]
     },
     "metadata": {},
     "output_type": "display_data"
    }
   ],
   "source": [
    "r = [r for q, r in points]\n",
    "q = [q for q, r in points]\n",
    "plt.scatter(r, q)"
   ]
  },
  {
   "cell_type": "code",
   "execution_count": null,
   "id": "cd29683d",
   "metadata": {},
   "outputs": [
    {
     "data": {
      "image/png": "[encoded data removed]",
      "text/plain": [
       "<Figure size 640x480 with 1 Axes>"
      ]
     },
     "metadata": {},
     "output_type": "display_data"
    }
   ],
   "source": [
    "R = np.arange(-10, 11)\n",
    "Q = np.arange(-10, 11)\n",
    "for r in R:\n",
    "    for q in Q:\n",
    "        if r + q < -10 or r + q > 10:\n",
    "            continue\n",
    "        elif r >= 0 and q >= 0:\n",
    "            plt.scatter(r, q, color=\"black\", s=1)"
   ]
  },
  {
   "cell_type": "code",
   "execution_count": 15,
   "id": "73cbce2f",
   "metadata": {},
   "outputs": [
    {
     "ename": "AttributeError",
     "evalue": "'numpy.ndarray' object has no attribute 'set_aspect'",
     "output_type": "error",
     "traceback": [
      "\u001b[31m---------------------------------------------------------------------------\u001b[39m",
      "\u001b[31mAttributeError\u001b[39m                            Traceback (most recent call last)",
      "\u001b[36mCell\u001b[39m\u001b[36m \u001b[39m\u001b[32mIn[15]\u001b[39m\u001b[32m, line 38\u001b[39m\n\u001b[32m     36\u001b[39m     ax[\u001b[32m1\u001b[39m].scatter(R, Q, s=s, color=c)\n\u001b[32m     37\u001b[39m     point_set.update(points)\n\u001b[32m---> \u001b[39m\u001b[32m38\u001b[39m \u001b[43max\u001b[49m\u001b[43m.\u001b[49m\u001b[43mset_aspect\u001b[49m(\u001b[33m\"\u001b[39m\u001b[33mequal\u001b[39m\u001b[33m\"\u001b[39m)\n\u001b[32m     39\u001b[39m \u001b[38;5;28mprint\u001b[39m(\u001b[33mf\u001b[39m\u001b[33m\"\u001b[39m\u001b[33mTotal points: \u001b[39m\u001b[38;5;132;01m{\u001b[39;00mt\u001b[38;5;132;01m}\u001b[39;00m\u001b[33m\"\u001b[39m)\n",
      "\u001b[31mAttributeError\u001b[39m: 'numpy.ndarray' object has no attribute 'set_aspect'"
     ]
    }
   ],
   "source": [
    "%matplotlib qt\n",
    "fig, ax = plt.subplots(1, 2, figsize=(16, 8))\n",
    "point_set = set()\n",
    "t = 0\n",
    "N = 10\n",
    "for n in range(0, N + 1):\n",
    "    points = set(brillouin_zone_ring(n))\n",
    "    new_set = points - point_set\n",
    "    R = []\n",
    "    Q = []\n",
    "    x = []\n",
    "    y = []\n",
    "    color = plt.cm.viridis(n / 10)\n",
    "    c = []\n",
    "    s = []\n",
    "    for q, r in points:\n",
    "        x_coord, y_coord = axial_to_cartesian(q, r)\n",
    "        Q.append(q)\n",
    "        R.append(r)\n",
    "        x.append(x_coord)\n",
    "        y.append(y_coord)\n",
    "        if np.abs(gcd(q, r)) <= 1:\n",
    "            c.append(\"black\")\n",
    "            if q >= 0 and r >= 0:\n",
    "                s.append(5 * 2 * 2)\n",
    "            else:\n",
    "                s.append(1 * 2 * 2)\n",
    "        else:\n",
    "            c.append(\"red\")\n",
    "            if q >= 0 and r >= 0:\n",
    "                s.append(10 * 2 * 2)\n",
    "            else:\n",
    "                s.append(2 * 2 * 2)\n",
    "            t += 1\n",
    "    ax[0].scatter(y, x, s=s, color=c)\n",
    "    ax[1].scatter(R, Q, s=s, color=c)\n",
    "    point_set.update(points)\n",
    "ax.set_aspect(\"equal\")\n",
    "print(f\"Total points: {t}\")"
   ]
  },
  {
   "cell_type": "code",
   "execution_count": 59,
   "id": "e51c247d",
   "metadata": {},
   "outputs": [
    {
     "name": "stdout",
     "output_type": "stream",
     "text": [
      "Total points: 2104\n"
     ]
    }
   ],
   "source": [
    "%matplotlib qt\n",
    "fig, ax = plt.subplots(figsize=(8, 8))\n",
    "point_set = set()\n",
    "t = 0\n",
    "N = 15\n",
    "for n in range(0, N + 1):\n",
    "    R = np.arange(-n, n + 1)\n",
    "    Q = np.arange(-n, n + 1)\n",
    "    points = set()\n",
    "    for q in Q:\n",
    "        for r in R:\n",
    "            points.add((q, r))\n",
    "    new_set = points - point_set\n",
    "    R = []\n",
    "    Q = []\n",
    "    x = []\n",
    "    y = []\n",
    "    color = plt.cm.viridis(n / 10)\n",
    "    c = []\n",
    "    s = []\n",
    "    for q, r in points:\n",
    "        x_coord, y_coord = axial_to_cartesian(q, r)\n",
    "        Q.append(q)\n",
    "        R.append(r)\n",
    "        x.append(x_coord)\n",
    "        y.append(y_coord)\n",
    "        if np.abs(gcd(q, r)) <= 1:\n",
    "            c.append(\"black\")\n",
    "            if q >= 0 and r >= 0:\n",
    "                s.append(5 * 2)\n",
    "            else:\n",
    "                s.append(1 * 2)\n",
    "        else:\n",
    "            c.append(\"lightgreen\")\n",
    "            if q >= 0 and r >= 0:\n",
    "                s.append(10 * 2)\n",
    "            else:\n",
    "                s.append(2 * 2)\n",
    "            t += 1\n",
    "    # ax.scatter(y, x, s=s, color=c)\n",
    "    ax.scatter(R, Q, s=s, color=c)\n",
    "    point_set.update(points)\n",
    "ax.set_aspect(\"equal\")\n",
    "print(f\"Total points: {t}\")"
   ]
  },
  {
   "cell_type": "code",
   "execution_count": null,
   "id": "277475b7",
   "metadata": {},
   "outputs": [],
   "source": [
    "a = brillouin_zones_up_to(int(1e6))"
   ]
  },
  {
   "cell_type": "code",
   "execution_count": 68,
   "id": "088706e3",
   "metadata": {},
   "outputs": [
    {
     "data": {
      "text/plain": [
       "1369204.271096058"
      ]
     },
     "execution_count": 68,
     "metadata": {},
     "output_type": "execute_result"
    }
   ],
   "source": [
    "len(a) * 6 / np.pi**2 * 0.75"
   ]
  },
  {
   "cell_type": "code",
   "execution_count": null,
   "id": "081b78de",
   "metadata": {},
   "outputs": [],
   "source": []
  }
 ],
 "metadata": {
  "kernelspec": {
   "display_name": "bin",
   "language": "python",
   "name": "python3"
  },
  "language_info": {
   "codemirror_mode": {
    "name": "ipython",
    "version": 3
   },
   "file_extension": ".py",
   "mimetype": "text/x-python",
   "name": "python",
   "nbconvert_exporter": "python",
   "pygments_lexer": "ipython3",
   "version": "3.13.3"
  }
 },
 "nbformat": 4,
 "nbformat_minor": 5
}
